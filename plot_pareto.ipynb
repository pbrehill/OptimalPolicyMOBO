{
 "cells": [
  {
   "cell_type": "code",
   "execution_count": 3,
   "metadata": {
    "collapsed": true
   },
   "outputs": [
    {
     "ename": "ModuleNotFoundError",
     "evalue": "No module named 'ax'",
     "output_type": "error",
     "traceback": [
      "\u001B[1;31m---------------------------------------------------------------------------\u001B[0m",
      "\u001B[1;31mModuleNotFoundError\u001B[0m                       Traceback (most recent call last)",
      "Input \u001B[1;32mIn [3]\u001B[0m, in \u001B[0;36m<module>\u001B[1;34m\u001B[0m\n\u001B[1;32m----> 1\u001B[0m \u001B[38;5;28;01mfrom\u001B[39;00m \u001B[38;5;21;01max\u001B[39;00m\u001B[38;5;21;01m.\u001B[39;00m\u001B[38;5;21;01mservice\u001B[39;00m\u001B[38;5;21;01m.\u001B[39;00m\u001B[38;5;21;01max_client\u001B[39;00m \u001B[38;5;28;01mimport\u001B[39;00m AxClient\n\u001B[0;32m      2\u001B[0m \u001B[38;5;28;01mfrom\u001B[39;00m \u001B[38;5;21;01max\u001B[39;00m\u001B[38;5;21;01m.\u001B[39;00m\u001B[38;5;21;01mservice\u001B[39;00m\u001B[38;5;21;01m.\u001B[39;00m\u001B[38;5;21;01mutils\u001B[39;00m\u001B[38;5;21;01m.\u001B[39;00m\u001B[38;5;21;01minstantiation\u001B[39;00m \u001B[38;5;28;01mimport\u001B[39;00m ObjectiveProperties\n\u001B[0;32m      4\u001B[0m \u001B[38;5;28;01mimport\u001B[39;00m \u001B[38;5;21;01mtorch\u001B[39;00m\n",
      "\u001B[1;31mModuleNotFoundError\u001B[0m: No module named 'ax'"
     ]
    }
   ],
   "source": [
    "from ax.service.ax_client import AxClient\n",
    "from ax.service.utils.instantiation import ObjectiveProperties\n",
    "\n",
    "import torch\n",
    "import pandas as pd\n",
    "\n",
    "# Plotting imports and initialization\n",
    "from ax.utils.notebook.plotting import render, init_notebook_plotting\n",
    "from ax.plot.pareto_utils import compute_posterior_pareto_frontier\n",
    "from ax.plot.pareto_frontier import plot_pareto_frontier\n",
    "# init_notebook_plotting()\n",
    "\n",
    "# Load our sample 2-objective problem\n",
    "from botorch.test_functions.multi_objective import BraninCurrin\n",
    "\n",
    "# Read in R functions\n",
    "from rpy2.robjects.packages import importr\n",
    "import rpy2.robjects\n",
    "from rpy2.robjects import pandas2ri\n",
    "pandas2ri.activate()\n",
    "import rpy2.robjects as ro\n",
    "# ro.r('''source('tree_utility.r')''')\n",
    "#\n",
    "# evaluate_tree = ro.globalenv['evaluate_tree']\n",
    "\n",
    "from rpy2.robjects.packages import STAP\n",
    "#Read the file with the R code snippet\n",
    "with open('tree_utility.R', 'r') as f:\n",
    "    string = f.read()\n",
    "#Parse using STAP\n",
    "evaluate_tree = STAP(string, \"evaluate_tree\")\n",
    "\n",
    "\n",
    "\n",
    "ax_client = AxClient()\n",
    "ax_client.create_experiment(\n",
    "    name=\"morocco_experiment\",\n",
    "    parameters=[\n",
    "        {\n",
    "            \"name\": f\"y{i+1}_weight\",\n",
    "            \"type\": \"range\",\n",
    "            \"bounds\": [0.0, 1.0],\n",
    "        }\n",
    "        for i in range(2)\n",
    "    ],\n",
    "    objectives={\n",
    "        # `threshold` arguments are optional\n",
    "        \"a\": ObjectiveProperties(minimize=False),\n",
    "        \"b\": ObjectiveProperties(minimize=False)\n",
    "    },\n",
    "    overwrite_existing_experiment=True,\n",
    "    is_test=True,\n",
    ")\n",
    "\n",
    "\n",
    "def evaluate(parameters, X, gamma1, gamma2):\n",
    "    evaluation = evaluate_tree.evaluate_tree(\n",
    "        X, gamma1, gamma2,\n",
    "        parameters.get(\"y1_weight\"),\n",
    "        parameters.get(\"y2_weight\")\n",
    "    )\n",
    "    # In our case, standard error is 0, since we are computing a synthetic function.\n",
    "    # Set standard error to None if the noise level is unknown.\n",
    "    return {\"a\": (evaluation[0], evaluation[2]), \"b\": (evaluation[1], evaluation[3])}\n",
    "\n",
    "\n",
    "df = pd.read_csv('train_data1.csv')\n",
    "r_dataframeX = pandas2ri.py2rpy(df[['hhh_gender', 'hhh_age', 'hhh_literacy',\n",
    "       'age', 'female', 'monthly_spending']])\n",
    "r_dataframeG1 = pandas2ri.py2rpy(df[['any_drops2-1', 'any_drops3-1', 'any_drops4-1']])\n",
    "r_dataframeG2 = pandas2ri.py2rpy(df[['maths2-1', 'maths3-1', 'maths4-1']])\n",
    "\n",
    "\n",
    "\n",
    "for i in range(10):\n",
    "    parameters, trial_index = ax_client.get_next_trial()\n",
    "    # Local evaluation here can be replaced with deployment to external system.\n",
    "    ax_client.complete_trial(trial_index=trial_index, raw_data=evaluate(parameters, r_dataframeX, r_dataframeG1, r_dataframeG2))\n",
    "\n",
    "objectives = ax_client.experiment.optimization_config.objective.objectives\n",
    "frontier = compute_posterior_pareto_frontier(\n",
    "    experiment=ax_client.experiment,\n",
    "    data=ax_client.experiment.fetch_data(),\n",
    "    primary_objective=objectives[1].metric,\n",
    "    secondary_objective=objectives[0].metric,\n",
    "    absolute_metrics=[\"a\", \"b\"],\n",
    "    num_points=10,\n",
    ")\n",
    "\n",
    "plt_stuff = plot_pareto_frontier(frontier, CI_level=0.90)\n"
   ]
  },
  {
   "cell_type": "code",
   "execution_count": 1,
   "outputs": [
    {
     "ename": "NameError",
     "evalue": "name 'render' is not defined",
     "output_type": "error",
     "traceback": [
      "\u001B[1;31m---------------------------------------------------------------------------\u001B[0m",
      "\u001B[1;31mNameError\u001B[0m                                 Traceback (most recent call last)",
      "Input \u001B[1;32mIn [1]\u001B[0m, in \u001B[0;36m<module>\u001B[1;34m\u001B[0m\n\u001B[1;32m----> 1\u001B[0m \u001B[43mrender\u001B[49m(plt_stuff)\n",
      "\u001B[1;31mNameError\u001B[0m: name 'render' is not defined"
     ]
    }
   ],
   "source": [
    "render(plt_stuff)"
   ],
   "metadata": {
    "collapsed": false
   }
  },
  {
   "cell_type": "code",
   "execution_count": null,
   "outputs": [],
   "source": [],
   "metadata": {
    "collapsed": false
   }
  }
 ],
 "metadata": {
  "kernelspec": {
   "display_name": "Python 3",
   "language": "python",
   "name": "python3"
  },
  "language_info": {
   "codemirror_mode": {
    "name": "ipython",
    "version": 2
   },
   "file_extension": ".py",
   "mimetype": "text/x-python",
   "name": "python",
   "nbconvert_exporter": "python",
   "pygments_lexer": "ipython2",
   "version": "2.7.6"
  }
 },
 "nbformat": 4,
 "nbformat_minor": 0
}
